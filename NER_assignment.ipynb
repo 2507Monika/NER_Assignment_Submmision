{
  "nbformat": 4,
  "nbformat_minor": 0,
  "metadata": {
    "colab": {
      "provenance": []
    },
    "kernelspec": {
      "name": "python3",
      "display_name": "Python 3"
    },
    "language_info": {
      "name": "python"
    }
  },
  "cells": [
    {
      "cell_type": "code",
      "execution_count": 38,
      "metadata": {
        "id": "zSmBI_w652UB"
      },
      "outputs": [],
      "source": [
        "import spacy\n",
        "from spacy import displacy\n",
        "\n",
        "\n",
        "# Function to return a list with the dictionary of the entities\n",
        "def NER_system(input_string, language_code):\n",
        "  ! python -m spacy download language_code\n",
        "  NER = spacy.load(language_code)\n",
        "  list1 = NER(input_string)\n",
        "\n",
        "  output_list = []\n",
        "\n",
        "  for ent in list1.ents:\n",
        "    ent_dict = {\"text\": ent.text, \"type\": ent.label_, \"start_pos\": ent.start_char, \"end_pos\": ent.end_char}\n",
        "    output_list.append(ent_dict)\n",
        "  \n",
        "  return output_list\n",
        "\n"
      ]
    },
    {
      "cell_type": "code",
      "source": [
        "#Example for English\n",
        "NER_system(\"The Indian Space Research Organisation or is the national space agency of India, headquartered in Bengaluru. It operates under Department of Space which is directly overseen by the Prime Minister of India while Chairman of ISRO acts as executive of DOS as well.\", \"en_core_web_sm\")"
      ],
      "metadata": {
        "colab": {
          "base_uri": "https://localhost:8080/"
        },
        "id": "0VKLdiHG8thz",
        "outputId": "a82cab27-8719-4203-b0a6-cb072f4daaba"
      },
      "execution_count": 39,
      "outputs": [
        {
          "output_type": "stream",
          "name": "stdout",
          "text": [
            "/usr/local/lib/python3.8/dist-packages/torch/cuda/__init__.py:497: UserWarning: Can't initialize NVML\n",
            "  warnings.warn(\"Can't initialize NVML\")\n",
            "2023-03-05 09:04:05.272915: W tensorflow/compiler/xla/stream_executor/platform/default/dso_loader.cc:64] Could not load dynamic library 'libnvinfer.so.7'; dlerror: libnvinfer.so.7: cannot open shared object file: No such file or directory; LD_LIBRARY_PATH: /usr/local/nvidia/lib:/usr/local/nvidia/lib64\n",
            "2023-03-05 09:04:05.273072: W tensorflow/compiler/xla/stream_executor/platform/default/dso_loader.cc:64] Could not load dynamic library 'libnvinfer_plugin.so.7'; dlerror: libnvinfer_plugin.so.7: cannot open shared object file: No such file or directory; LD_LIBRARY_PATH: /usr/local/nvidia/lib:/usr/local/nvidia/lib64\n",
            "2023-03-05 09:04:05.273093: W tensorflow/compiler/tf2tensorrt/utils/py_utils.cc:38] TF-TRT Warning: Cannot dlopen some TensorRT libraries. If you would like to use Nvidia GPU with TensorRT, please make sure the missing libraries mentioned above are installed properly.\n",
            "2023-03-05 09:04:07.269917: E tensorflow/compiler/xla/stream_executor/cuda/cuda_driver.cc:267] failed call to cuInit: CUDA_ERROR_NO_DEVICE: no CUDA-capable device is detected\n",
            "\n",
            "\u001b[38;5;1m✘ No compatible package found for 'language_code' (spaCy v3.4.4)\u001b[0m\n",
            "\n"
          ]
        },
        {
          "output_type": "execute_result",
          "data": {
            "text/plain": [
              "[{'text': 'The Indian Space Research Organisation',\n",
              "  'type': 'ORG',\n",
              "  'start_pos': 0,\n",
              "  'end_pos': 38},\n",
              " {'text': 'India', 'type': 'GPE', 'start_pos': 74, 'end_pos': 79},\n",
              " {'text': 'Bengaluru', 'type': 'GPE', 'start_pos': 98, 'end_pos': 107},\n",
              " {'text': 'under Department of Space',\n",
              "  'type': 'ORG',\n",
              "  'start_pos': 121,\n",
              "  'end_pos': 146},\n",
              " {'text': 'India', 'type': 'GPE', 'start_pos': 199, 'end_pos': 204}]"
            ]
          },
          "metadata": {},
          "execution_count": 39
        }
      ]
    },
    {
      "cell_type": "code",
      "source": [
        "# Example for Finnish\n",
        "NER_system(\"The Indian Space Research Organisation or is the national space agency of India, headquartered in Bengaluru. It operates under Department of Space which is directly overseen by the Prime Minister of India while Chairman of ISRO acts as executive of DOS as well.\", \"fi_core_news_sm\")"
      ],
      "metadata": {
        "colab": {
          "base_uri": "https://localhost:8080/"
        },
        "id": "Sg1K7yc__Pnz",
        "outputId": "f3716ccf-aa6d-46da-bd92-2f82818d4bf1"
      },
      "execution_count": 40,
      "outputs": [
        {
          "output_type": "stream",
          "name": "stdout",
          "text": [
            "/usr/local/lib/python3.8/dist-packages/torch/cuda/__init__.py:497: UserWarning: Can't initialize NVML\n",
            "  warnings.warn(\"Can't initialize NVML\")\n",
            "2023-03-05 09:04:18.665212: W tensorflow/compiler/xla/stream_executor/platform/default/dso_loader.cc:64] Could not load dynamic library 'libnvinfer.so.7'; dlerror: libnvinfer.so.7: cannot open shared object file: No such file or directory; LD_LIBRARY_PATH: /usr/local/nvidia/lib:/usr/local/nvidia/lib64\n",
            "2023-03-05 09:04:18.665355: W tensorflow/compiler/xla/stream_executor/platform/default/dso_loader.cc:64] Could not load dynamic library 'libnvinfer_plugin.so.7'; dlerror: libnvinfer_plugin.so.7: cannot open shared object file: No such file or directory; LD_LIBRARY_PATH: /usr/local/nvidia/lib:/usr/local/nvidia/lib64\n",
            "2023-03-05 09:04:18.665381: W tensorflow/compiler/tf2tensorrt/utils/py_utils.cc:38] TF-TRT Warning: Cannot dlopen some TensorRT libraries. If you would like to use Nvidia GPU with TensorRT, please make sure the missing libraries mentioned above are installed properly.\n",
            "2023-03-05 09:04:20.518604: E tensorflow/compiler/xla/stream_executor/cuda/cuda_driver.cc:267] failed call to cuInit: CUDA_ERROR_NO_DEVICE: no CUDA-capable device is detected\n",
            "\n",
            "\u001b[38;5;1m✘ No compatible package found for 'language_code' (spaCy v3.4.4)\u001b[0m\n",
            "\n"
          ]
        },
        {
          "output_type": "execute_result",
          "data": {
            "text/plain": [
              "[{'text': 'The Indian', 'type': 'ORG', 'start_pos': 0, 'end_pos': 10},\n",
              " {'text': 'Space Research Organisation or is the national space',\n",
              "  'type': 'ORG',\n",
              "  'start_pos': 11,\n",
              "  'end_pos': 63},\n",
              " {'text': 'Department of Space which',\n",
              "  'type': 'ORG',\n",
              "  'start_pos': 127,\n",
              "  'end_pos': 152}]"
            ]
          },
          "metadata": {},
          "execution_count": 40
        }
      ]
    }
  ]
}